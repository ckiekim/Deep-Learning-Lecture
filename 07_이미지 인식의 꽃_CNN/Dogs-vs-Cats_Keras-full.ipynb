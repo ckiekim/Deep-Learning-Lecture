{
 "cells": [
  {
   "cell_type": "markdown",
   "metadata": {},
   "source": [
    "# Dogs vs Cats\n",
    "## Kaggle Dataset의 전부를 이용한 개, 고양이 구분\n",
    "### Dog Image: 12,500개, Cat Image: 12,500개, 총 25,000개\n",
    "### 출처: [pontoregende GitHub](https://github.com/pontorezende/Dogs-vs-Cats-Redux-with-CNN)"
   ]
  },
  {
   "cell_type": "code",
   "execution_count": 1,
   "metadata": {},
   "outputs": [
    {
     "name": "stderr",
     "output_type": "stream",
     "text": [
      "Using TensorFlow backend.\n"
     ]
    }
   ],
   "source": [
    "from keras.preprocessing import image\n",
    "from glob import glob\n",
    "import cv2, os, random\n",
    "import numpy as np\n",
    "import matplotlib.pyplot as plt\n",
    "from keras.models import Sequential\n",
    "from keras.layers.convolutional import Conv2D, MaxPooling2D\n",
    "from keras.layers.core import Dense, Flatten, Dropout\n",
    "from keras.optimizers import Adam\n",
    "from keras.utils import np_utils\n",
    "from keras.callbacks import ModelCheckpoint\n",
    "%matplotlib inline"
   ]
  },
  {
   "cell_type": "code",
   "execution_count": 2,
   "metadata": {},
   "outputs": [],
   "source": [
    "path='dataset/dogs-vs-cats/train'"
   ]
  },
  {
   "cell_type": "code",
   "execution_count": 8,
   "metadata": {},
   "outputs": [],
   "source": [
    "## used for resize and in our model\n",
    "ROW, COL = 96, 96\n",
    "\n",
    "dogs, cats = [], []\n",
    "y_dogs, y_cats = [], []"
   ]
  },
  {
   "cell_type": "code",
   "execution_count": 10,
   "metadata": {},
   "outputs": [],
   "source": [
    "## Definition to load all our dog images\n",
    "def load_dogs():\n",
    "    print('Loading all dog images\\n')\n",
    "    dog_path = os.path.join(path, 'dog*')\n",
    "    for dog_img in glob(dog_path):\n",
    "        dog = cv2.imread(dog_img)\n",
    "        dog = cv2.cvtColor(dog, cv2.COLOR_BGR2GRAY)\n",
    "        dog = cv2.resize(dog, (ROW, COL))\n",
    "        dog = image.img_to_array(dog)\n",
    "        dogs.append(dog)\n",
    "    print('All dog images loaded')"
   ]
  },
  {
   "cell_type": "code",
   "execution_count": 9,
   "metadata": {},
   "outputs": [],
   "source": [
    "## Definition to load all our cat images\n",
    "def load_cats():\n",
    "    print('Loading all cat images\\n')\n",
    "    cat_path = os.path.join(path, 'cat*')\n",
    "    for cat_img in glob(cat_path):\n",
    "        cat = cv2.imread(cat_img)\n",
    "        cat = cv2.cvtColor(cat, cv2.COLOR_BGR2GRAY)\n",
    "        cat = cv2.resize(cat, (ROW, COL))\n",
    "        cat = image.img_to_array(cat)\n",
    "        cats.append(cat)\n",
    "    print('All cat images loaded')"
   ]
  },
  {
   "cell_type": "code",
   "execution_count": 11,
   "metadata": {},
   "outputs": [
    {
     "name": "stdout",
     "output_type": "stream",
     "text": [
      "Loading all dog images\n",
      "\n",
      "All dog images loaded\n"
     ]
    }
   ],
   "source": [
    "load_dogs()"
   ]
  },
  {
   "cell_type": "code",
   "execution_count": 12,
   "metadata": {},
   "outputs": [
    {
     "name": "stdout",
     "output_type": "stream",
     "text": [
      "Loading all cat images\n",
      "\n",
      "All cat images loaded\n"
     ]
    }
   ],
   "source": [
    "load_cats()"
   ]
  },
  {
   "cell_type": "code",
   "execution_count": 13,
   "metadata": {},
   "outputs": [],
   "source": [
    "classes = ['dog', 'cat']"
   ]
  },
  {
   "cell_type": "code",
   "execution_count": 14,
   "metadata": {},
   "outputs": [],
   "source": [
    "## in case we want to see if our images was saved correctly in arrays we can use those codes\n",
    "def show_dogs():\n",
    "    plt.figure(figsize=(12,8))    \n",
    "    for i in range(5):\n",
    "        plt.subplot(1, 5, i+1)\n",
    "        img = image.array_to_img(random.choice(dogs))\n",
    "        plt.imshow(img)\n",
    "        \n",
    "        plt.axis('off')\n",
    "        plt.title('Supposed to be a {}'.format(classes[0]))        \n",
    "    plt.show()"
   ]
  },
  {
   "cell_type": "code",
   "execution_count": 15,
   "metadata": {},
   "outputs": [],
   "source": [
    "def show_cats():\n",
    "    plt.figure(figsize=(12,8))\n",
    "    for i in range(5):\n",
    "        plt.subplot(1, 5, i+1)\n",
    "        img = image.array_to_img(random.choice(cats))\n",
    "        plt.imshow(img)\n",
    "\n",
    "        plt.axis('off')\n",
    "        plt.title('Supposed to be a {}'.format(classes[1]))\n",
    "    plt.show()"
   ]
  },
  {
   "cell_type": "code",
   "execution_count": 16,
   "metadata": {},
   "outputs": [],
   "source": [
    "## just change the labels for 0 and  1\n",
    "y_dogs = [1 for item in enumerate(dogs)]\n",
    "y_cats = [0 for item in enumerate(cats)]"
   ]
  },
  {
   "cell_type": "code",
   "execution_count": 17,
   "metadata": {},
   "outputs": [],
   "source": [
    "## converting everything to Numpy array to fit in our model\n",
    "## them creating a X and target file like we used to see\n",
    "## in Machine and Deep Learning models\n",
    "dogs = np.asarray(dogs).astype('float32')\n",
    "cats = np.asarray(cats).astype('float32')\n",
    "y_dogs = np.asarray(y_dogs).astype('int32')\n",
    "y_cats = np.asarray(y_cats).astype('int32')"
   ]
  },
  {
   "cell_type": "code",
   "execution_count": 18,
   "metadata": {},
   "outputs": [],
   "source": [
    "## fit values between 0 and 1\n",
    "dogs /= 255\n",
    "cats /= 255"
   ]
  },
  {
   "cell_type": "code",
   "execution_count": 19,
   "metadata": {},
   "outputs": [],
   "source": [
    "X = np.concatenate((dogs,cats), axis=0)\n",
    "y = np.concatenate((y_dogs, y_cats), axis=0)"
   ]
  },
  {
   "cell_type": "code",
   "execution_count": 20,
   "metadata": {},
   "outputs": [],
   "source": [
    "IMG_CHANNEL = 1\n",
    "BATCH_SIZE = 128\n",
    "N_EPOCH = 40\n",
    "VERBOSE = 2\n",
    "VALIDAION_SPLIT = .2\n",
    "OPTIM = Adam()\n",
    "N_CLASSES = len(classes)"
   ]
  },
  {
   "cell_type": "code",
   "execution_count": 21,
   "metadata": {},
   "outputs": [
    {
     "name": "stdout",
     "output_type": "stream",
     "text": [
      "One-Hot Encoding done\n"
     ]
    }
   ],
   "source": [
    "## One-Hot Encoding\n",
    "y = np_utils.to_categorical(y, N_CLASSES)\n",
    "print('One-Hot Encoding done')"
   ]
  },
  {
   "cell_type": "code",
   "execution_count": 22,
   "metadata": {},
   "outputs": [
    {
     "name": "stderr",
     "output_type": "stream",
     "text": [
      "WARNING: Logging before flag parsing goes to stderr.\n",
      "W0811 21:58:56.034437  2988 deprecation_wrapper.py:119] From C:\\ProgramData\\Anaconda3\\lib\\site-packages\\keras\\backend\\tensorflow_backend.py:74: The name tf.get_default_graph is deprecated. Please use tf.compat.v1.get_default_graph instead.\n",
      "\n",
      "W0811 21:58:56.037435  2988 deprecation_wrapper.py:119] From C:\\ProgramData\\Anaconda3\\lib\\site-packages\\keras\\backend\\tensorflow_backend.py:517: The name tf.placeholder is deprecated. Please use tf.compat.v1.placeholder instead.\n",
      "\n",
      "W0811 21:58:56.047448  2988 deprecation_wrapper.py:119] From C:\\ProgramData\\Anaconda3\\lib\\site-packages\\keras\\backend\\tensorflow_backend.py:4138: The name tf.random_uniform is deprecated. Please use tf.random.uniform instead.\n",
      "\n",
      "W0811 21:58:56.104399  2988 deprecation_wrapper.py:119] From C:\\ProgramData\\Anaconda3\\lib\\site-packages\\keras\\backend\\tensorflow_backend.py:3976: The name tf.nn.max_pool is deprecated. Please use tf.nn.max_pool2d instead.\n",
      "\n",
      "W0811 21:58:56.108396  2988 deprecation_wrapper.py:119] From C:\\ProgramData\\Anaconda3\\lib\\site-packages\\keras\\backend\\tensorflow_backend.py:133: The name tf.placeholder_with_default is deprecated. Please use tf.compat.v1.placeholder_with_default instead.\n",
      "\n",
      "W0811 21:58:56.126399  2988 deprecation.py:506] From C:\\ProgramData\\Anaconda3\\lib\\site-packages\\keras\\backend\\tensorflow_backend.py:3445: calling dropout (from tensorflow.python.ops.nn_ops) with keep_prob is deprecated and will be removed in a future version.\n",
      "Instructions for updating:\n",
      "Please use `rate` instead of `keep_prob`. Rate should be set to `rate = 1 - keep_prob`.\n"
     ]
    },
    {
     "name": "stdout",
     "output_type": "stream",
     "text": [
      "The model was created by following config:\n",
      "_________________________________________________________________\n",
      "Layer (type)                 Output Shape              Param #   \n",
      "=================================================================\n",
      "conv2d_1 (Conv2D)            (None, 96, 96, 32)        320       \n",
      "_________________________________________________________________\n",
      "conv2d_2 (Conv2D)            (None, 96, 96, 32)        9248      \n",
      "_________________________________________________________________\n",
      "max_pooling2d_1 (MaxPooling2 (None, 48, 48, 32)        0         \n",
      "_________________________________________________________________\n",
      "dropout_1 (Dropout)          (None, 48, 48, 32)        0         \n",
      "_________________________________________________________________\n",
      "conv2d_3 (Conv2D)            (None, 48, 48, 64)        18496     \n",
      "_________________________________________________________________\n",
      "conv2d_4 (Conv2D)            (None, 48, 48, 64)        36928     \n",
      "_________________________________________________________________\n",
      "max_pooling2d_2 (MaxPooling2 (None, 24, 24, 64)        0         \n",
      "_________________________________________________________________\n",
      "dropout_2 (Dropout)          (None, 24, 24, 64)        0         \n",
      "_________________________________________________________________\n",
      "flatten_1 (Flatten)          (None, 36864)             0         \n",
      "_________________________________________________________________\n",
      "dense_1 (Dense)              (None, 512)               18874880  \n",
      "_________________________________________________________________\n",
      "dropout_3 (Dropout)          (None, 512)               0         \n",
      "_________________________________________________________________\n",
      "dense_2 (Dense)              (None, 2)                 1026      \n",
      "=================================================================\n",
      "Total params: 18,940,898\n",
      "Trainable params: 18,940,898\n",
      "Non-trainable params: 0\n",
      "_________________________________________________________________\n"
     ]
    }
   ],
   "source": [
    "## Here is our model as a CNN\n",
    "model = Sequential([\n",
    "    Conv2D(32, (3,3), padding='same', input_shape=(ROW, COL, IMG_CHANNEL), activation='relu'),\n",
    "    Conv2D(32, (3,3), padding='same', activation='relu'),\n",
    "    MaxPooling2D(pool_size=(2,2)),\n",
    "    Dropout(.25),\n",
    "    Conv2D(64, (3,3), padding='same', activation='relu'),\n",
    "    Conv2D(64, (3,3), padding='same', activation='relu'),\n",
    "    MaxPooling2D(pool_size=(2,2)),\n",
    "    Dropout(.25),\n",
    "    Flatten(),\n",
    "    Dense(512, activation='relu'),\n",
    "    Dropout(.5),\n",
    "    Dense(N_CLASSES, activation='softmax')\n",
    "])\n",
    "\n",
    "print('The model was created by following config:')\n",
    "model.summary()"
   ]
  },
  {
   "cell_type": "code",
   "execution_count": 23,
   "metadata": {},
   "outputs": [
    {
     "name": "stderr",
     "output_type": "stream",
     "text": [
      "W0811 22:02:48.080152  2988 deprecation_wrapper.py:119] From C:\\ProgramData\\Anaconda3\\lib\\site-packages\\keras\\optimizers.py:790: The name tf.train.Optimizer is deprecated. Please use tf.compat.v1.train.Optimizer instead.\n",
      "\n",
      "W0811 22:02:48.094146  2988 deprecation_wrapper.py:119] From C:\\ProgramData\\Anaconda3\\lib\\site-packages\\keras\\backend\\tensorflow_backend.py:3295: The name tf.log is deprecated. Please use tf.math.log instead.\n",
      "\n"
     ]
    }
   ],
   "source": [
    "model.compile(loss='categorical_crossentropy', optimizer=OPTIM, metrics=['accuracy'])"
   ]
  },
  {
   "cell_type": "code",
   "execution_count": 25,
   "metadata": {},
   "outputs": [
    {
     "name": "stdout",
     "output_type": "stream",
     "text": [
      "Train on 20000 samples, validate on 5000 samples\n",
      "Epoch 1/40\n",
      " - 1078s - loss: 0.5939 - acc: 0.6780 - val_loss: 0.8983 - val_acc: 0.4444\n",
      "Epoch 2/40\n",
      " - 1098s - loss: 0.5316 - acc: 0.7340 - val_loss: 0.8564 - val_acc: 0.5462\n",
      "Epoch 3/40\n",
      " - 1057s - loss: 0.4735 - acc: 0.7751 - val_loss: 0.7183 - val_acc: 0.6264\n",
      "Epoch 4/40\n",
      " - 1037s - loss: 0.4212 - acc: 0.8062 - val_loss: 0.4502 - val_acc: 0.7956\n",
      "Epoch 5/40\n",
      " - 1022s - loss: 0.3829 - acc: 0.8298 - val_loss: 0.5680 - val_acc: 0.7240\n",
      "Epoch 6/40\n",
      " - 1019s - loss: 0.3359 - acc: 0.8511 - val_loss: 0.5727 - val_acc: 0.7272\n",
      "Epoch 7/40\n",
      " - 1009s - loss: 0.2975 - acc: 0.8723 - val_loss: 0.7727 - val_acc: 0.6354\n",
      "Epoch 8/40\n",
      " - 1023s - loss: 0.2476 - acc: 0.8973 - val_loss: 0.7022 - val_acc: 0.7106\n",
      "Epoch 9/40\n",
      " - 1021s - loss: 0.2067 - acc: 0.9149 - val_loss: 0.8073 - val_acc: 0.6856\n",
      "Epoch 10/40\n",
      " - 1037s - loss: 0.1611 - acc: 0.9360 - val_loss: 0.5314 - val_acc: 0.7858\n",
      "Epoch 11/40\n",
      " - 1036s - loss: 0.1350 - acc: 0.9477 - val_loss: 0.7253 - val_acc: 0.7668\n",
      "Epoch 12/40\n",
      " - 1021s - loss: 0.1152 - acc: 0.9553 - val_loss: 0.5080 - val_acc: 0.8126\n",
      "Epoch 13/40\n",
      " - 1013s - loss: 0.0987 - acc: 0.9630 - val_loss: 1.1292 - val_acc: 0.7036\n",
      "Epoch 14/40\n",
      " - 1007s - loss: 0.0842 - acc: 0.9692 - val_loss: 0.8911 - val_acc: 0.7612\n",
      "Epoch 15/40\n",
      " - 1007s - loss: 0.0834 - acc: 0.9705 - val_loss: 1.0486 - val_acc: 0.7372\n",
      "Epoch 16/40\n",
      " - 1012s - loss: 0.0689 - acc: 0.9742 - val_loss: 0.9222 - val_acc: 0.7558\n",
      "Epoch 17/40\n",
      " - 1024s - loss: 0.0600 - acc: 0.9781 - val_loss: 0.8837 - val_acc: 0.7828\n",
      "Epoch 18/40\n",
      " - 1015s - loss: 0.0619 - acc: 0.9783 - val_loss: 1.1529 - val_acc: 0.7396\n",
      "Epoch 19/40\n",
      " - 1023s - loss: 0.0521 - acc: 0.9820 - val_loss: 1.1178 - val_acc: 0.7376\n",
      "Epoch 20/40\n",
      " - 1016s - loss: 0.0513 - acc: 0.9819 - val_loss: 1.0833 - val_acc: 0.7354\n",
      "Epoch 21/40\n",
      " - 1008s - loss: 0.0542 - acc: 0.9814 - val_loss: 1.1142 - val_acc: 0.7402\n",
      "Epoch 22/40\n",
      " - 1007s - loss: 0.0466 - acc: 0.9845 - val_loss: 1.2872 - val_acc: 0.7156\n",
      "Epoch 23/40\n",
      " - 1004s - loss: 0.0432 - acc: 0.9845 - val_loss: 1.0905 - val_acc: 0.7700\n",
      "Epoch 24/40\n",
      " - 1007s - loss: 0.0422 - acc: 0.9843 - val_loss: 1.6411 - val_acc: 0.6980\n",
      "Epoch 25/40\n",
      " - 1028s - loss: 0.0507 - acc: 0.9827 - val_loss: 0.8870 - val_acc: 0.7774\n",
      "Epoch 26/40\n",
      " - 1007s - loss: 0.0385 - acc: 0.9873 - val_loss: 1.0510 - val_acc: 0.7588\n",
      "Epoch 27/40\n",
      " - 1044s - loss: 0.0356 - acc: 0.9878 - val_loss: 1.2072 - val_acc: 0.7526\n",
      "Epoch 28/40\n",
      " - 1103s - loss: 0.0333 - acc: 0.9880 - val_loss: 1.2506 - val_acc: 0.7452\n",
      "Epoch 29/40\n",
      " - 1084s - loss: 0.0345 - acc: 0.9876 - val_loss: 1.2707 - val_acc: 0.7422\n",
      "Epoch 30/40\n",
      " - 1089s - loss: 0.0394 - acc: 0.9859 - val_loss: 0.9816 - val_acc: 0.7934\n",
      "Epoch 31/40\n",
      " - 1103s - loss: 0.0325 - acc: 0.9888 - val_loss: 0.8195 - val_acc: 0.8244\n",
      "Epoch 32/40\n",
      " - 1097s - loss: 0.0339 - acc: 0.9879 - val_loss: 1.0234 - val_acc: 0.7838\n",
      "Epoch 33/40\n",
      " - 1089s - loss: 0.0342 - acc: 0.9887 - val_loss: 1.7076 - val_acc: 0.6902\n",
      "Epoch 34/40\n",
      " - 1033s - loss: 0.0317 - acc: 0.9896 - val_loss: 1.0068 - val_acc: 0.7788\n",
      "Epoch 35/40\n",
      " - 1027s - loss: 0.0368 - acc: 0.9868 - val_loss: 1.0577 - val_acc: 0.7644\n",
      "Epoch 36/40\n",
      " - 1027s - loss: 0.0395 - acc: 0.9866 - val_loss: 1.1778 - val_acc: 0.7514\n",
      "Epoch 37/40\n",
      " - 1031s - loss: 0.0348 - acc: 0.9888 - val_loss: 1.7393 - val_acc: 0.6906\n",
      "Epoch 38/40\n",
      " - 1015s - loss: 0.0316 - acc: 0.9898 - val_loss: 1.2064 - val_acc: 0.7498\n",
      "Epoch 39/40\n",
      " - 1014s - loss: 0.0267 - acc: 0.9910 - val_loss: 1.0706 - val_acc: 0.7806\n",
      "Epoch 40/40\n",
      " - 1028s - loss: 0.0291 - acc: 0.9899 - val_loss: 1.2157 - val_acc: 0.7654\n"
     ]
    },
    {
     "data": {
      "text/plain": [
       "<keras.callbacks.History at 0x16adae4e668>"
      ]
     },
     "execution_count": 25,
     "metadata": {},
     "output_type": "execute_result"
    }
   ],
   "source": [
    "## to save checkpoint to use latter\n",
    "checkpoint = ModelCheckpoint('model_checkpoint/dogs_vs_cats_redux_checkpoint.h5')\n",
    "model.fit(X, y, batch_size=BATCH_SIZE, epochs=N_EPOCH, validation_split=VALIDAION_SPLIT,\n",
    "          verbose=VERBOSE, callbacks=[checkpoint])"
   ]
  },
  {
   "cell_type": "code",
   "execution_count": 26,
   "metadata": {},
   "outputs": [
    {
     "name": "stdout",
     "output_type": "stream",
     "text": [
      "MODEL ACCURACY\n",
      "acc: 95.304%\n"
     ]
    }
   ],
   "source": [
    "scores = model.evaluate(X, y, verbose=2)\n",
    "print('MODEL ACCURACY\\n{}: {}%'.format(model.metrics_names[1], scores[1]*100))"
   ]
  },
  {
   "cell_type": "code",
   "execution_count": 27,
   "metadata": {},
   "outputs": [
    {
     "name": "stdout",
     "output_type": "stream",
     "text": [
      "JSON saved\n",
      ".h5 saved\n",
      "Weights saved in .h5 file\n"
     ]
    }
   ],
   "source": [
    "model_name = 'Dogs-and-Cats-12500-CNN'\n",
    "## saving architecture\n",
    "model_json = model.to_json()\n",
    "open(model_name+'.json', 'w').write(model_json)\n",
    "print('JSON saved')\n",
    "\n",
    "## and the weights learned by our deep network on the training set\n",
    "model.save(model_name+'.h5', overwrite=True)\n",
    "print('.h5 saved')\n",
    "\n",
    "model.save_weights(model_name+'_weights.h5', overwrite=True)\n",
    "print('Weights saved in .h5 file')"
   ]
  },
  {
   "cell_type": "code",
   "execution_count": null,
   "metadata": {},
   "outputs": [],
   "source": []
  }
 ],
 "metadata": {
  "kernelspec": {
   "display_name": "Python 3",
   "language": "python",
   "name": "python3"
  },
  "language_info": {
   "codemirror_mode": {
    "name": "ipython",
    "version": 3
   },
   "file_extension": ".py",
   "mimetype": "text/x-python",
   "name": "python",
   "nbconvert_exporter": "python",
   "pygments_lexer": "ipython3",
   "version": "3.7.3"
  }
 },
 "nbformat": 4,
 "nbformat_minor": 2
}
