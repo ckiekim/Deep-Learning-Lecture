{
 "cells": [
  {
   "cell_type": "code",
   "execution_count": 1,
   "metadata": {},
   "outputs": [],
   "source": [
    "# 필요한 라이브러리\n",
    "import numpy as np\n",
    "import tensorflow as tf\n",
    "if type(tf.contrib) != type(tf): \n",
    "    tf.contrib._warning = None"
   ]
  },
  {
   "cell_type": "code",
   "execution_count": 2,
   "metadata": {},
   "outputs": [],
   "source": [
    "data = [[2, 0], [4, 0], [6, 0], [8, 1], [10, 1], [12, 1], [14, 1]]\n",
    "x_data = [x_row[0] for x_row in data]\n",
    "y_data = [y_row[1] for y_row in data]"
   ]
  },
  {
   "cell_type": "code",
   "execution_count": 3,
   "metadata": {},
   "outputs": [],
   "source": [
    "a = tf.Variable(tf.random_normal([1], dtype=tf.float64, seed=0))\n",
    "b = tf.Variable(tf.random_normal([1], dtype=tf.float64, seed=0))"
   ]
  },
  {
   "cell_type": "code",
   "execution_count": 6,
   "metadata": {},
   "outputs": [],
   "source": [
    "y = 1/(1 + np.e**(a * x_data + b))"
   ]
  },
  {
   "cell_type": "code",
   "execution_count": 7,
   "metadata": {},
   "outputs": [],
   "source": [
    "loss = -tf.reduce_mean(np.array(y_data) * tf.log(y) + (1 - np.array(y_data)) * tf.log(1 - y))"
   ]
  },
  {
   "cell_type": "code",
   "execution_count": 9,
   "metadata": {},
   "outputs": [],
   "source": [
    "learning_rate = 0.5\n",
    "gradient_decent = tf.train.GradientDescentOptimizer(learning_rate).minimize(loss)"
   ]
  },
  {
   "cell_type": "code",
   "execution_count": 12,
   "metadata": {},
   "outputs": [
    {
     "name": "stdout",
     "output_type": "stream",
     "text": [
      "Epoch: 0, loss = 1.2676, 기울기 a = 0.1849, y 절편 = -0.4334\n",
      "Epoch: 6000, loss = 0.0152, 기울기 a = -2.9211, y 절편 = 20.2982\n",
      "Epoch: 12000, loss = 0.0081, 기울기 a = -3.5637, y 절편 = 24.8010\n",
      "Epoch: 18000, loss = 0.0055, 기울기 a = -3.9557, y 절편 = 27.5463\n",
      "Epoch: 24000, loss = 0.0041, 기울기 a = -4.2380, y 절편 = 29.5231\n",
      "Epoch: 30000, loss = 0.0033, 기울기 a = -4.4586, y 절편 = 31.0675\n",
      "Epoch: 36000, loss = 0.0028, 기울기 a = -4.6396, y 절편 = 32.3346\n",
      "Epoch: 42000, loss = 0.0024, 기울기 a = -4.7930, y 절편 = 33.4086\n",
      "Epoch: 48000, loss = 0.0021, 기울기 a = -4.9261, y 절편 = 34.3406\n",
      "Epoch: 54000, loss = 0.0019, 기울기 a = -5.0436, y 절편 = 35.1636\n",
      "Epoch: 60000, loss = 0.0017, 기울기 a = -5.1489, y 절편 = 35.9005\n"
     ]
    }
   ],
   "source": [
    "with tf.Session() as sess:\n",
    "    sess.run(tf.global_variables_initializer())\n",
    "\n",
    "    for i in range(60001):\n",
    "        sess.run(gradient_decent)\n",
    "        if i % 6000 == 0:\n",
    "            print(\"Epoch: %.f, loss = %.4f, 기울기 a = %.4f, y 절편 = %.4f\" % \n",
    "                  (i, sess.run(loss), sess.run(a), sess.run(b)))"
   ]
  },
  {
   "cell_type": "code",
   "execution_count": null,
   "metadata": {},
   "outputs": [],
   "source": []
  }
 ],
 "metadata": {
  "kernelspec": {
   "display_name": "Python 3",
   "language": "python",
   "name": "python3"
  },
  "language_info": {
   "codemirror_mode": {
    "name": "ipython",
    "version": 3
   },
   "file_extension": ".py",
   "mimetype": "text/x-python",
   "name": "python",
   "nbconvert_exporter": "python",
   "pygments_lexer": "ipython3",
   "version": "3.7.3"
  }
 },
 "nbformat": 4,
 "nbformat_minor": 2
}
