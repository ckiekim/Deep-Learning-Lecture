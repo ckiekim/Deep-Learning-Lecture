{
 "cells": [
  {
   "cell_type": "markdown",
   "metadata": {},
   "source": [
    "# 순환 신경망 - 나비야\n",
    "#### 출처: [순환 신경망 모델 만들어보기](https://tykimos.github.io/2017/04/09/RNN_Layer_Talk/)"
   ]
  },
  {
   "cell_type": "markdown",
   "metadata": {},
   "source": [
    "## 상태유지 LSTM 모델\n",
    "- 상태유지 모드에서는 현재 샘플의 학습 상태가 다음 샘플의 초기 상태로 전달된다."
   ]
  },
  {
   "cell_type": "code",
   "execution_count": 1,
   "metadata": {},
   "outputs": [
    {
     "name": "stderr",
     "output_type": "stream",
     "text": [
      "Using TensorFlow backend.\n"
     ]
    }
   ],
   "source": [
    "# 사용할 패키지 불러오기\n",
    "import keras\n",
    "from keras.models import Sequential\n",
    "from keras.layers import Dense\n",
    "from keras.layers import LSTM\n",
    "from keras.utils import np_utils\n",
    "import numpy as np"
   ]
  },
  {
   "cell_type": "code",
   "execution_count": 2,
   "metadata": {},
   "outputs": [],
   "source": [
    "# 랜덤시드 고정시키기\n",
    "np.random.seed(5)"
   ]
  },
  {
   "cell_type": "code",
   "execution_count": 3,
   "metadata": {},
   "outputs": [],
   "source": [
    "# 데이터셋 생성 함수        \n",
    "def seq2dataset(seq, window_size):\n",
    "    dataset = []\n",
    "    for i in range(len(seq)-window_size):\n",
    "        subset = seq[i:(i+window_size+1)]\n",
    "        dataset.append([code2idx[item] for item in subset])\n",
    "    return np.array(dataset)"
   ]
  },
  {
   "cell_type": "code",
   "execution_count": 4,
   "metadata": {},
   "outputs": [],
   "source": [
    "# 데이터 준비하기\n",
    "\n",
    "# 코드 사전 정의\n",
    "code2idx = {'c4':0, 'd4':1, 'e4':2, 'f4':3, 'g4':4, 'a4':5, 'b4':6,\n",
    "            'c8':7, 'd8':8, 'e8':9, 'f8':10, 'g8':11, 'a8':12, 'b8':13}\n",
    "idx2code = {0:'c4', 1:'d4', 2:'e4', 3:'f4', 4:'g4', 5:'a4', 6:'b4',\n",
    "            7:'c8', 8:'d8', 9:'e8', 10:'f8', 11:'g8', 12:'a8', 13:'b8'}"
   ]
  },
  {
   "cell_type": "code",
   "execution_count": 5,
   "metadata": {},
   "outputs": [],
   "source": [
    "# 시퀀스 데이터 정의\n",
    "seq = ['g8', 'e8', 'e4', 'f8', 'd8', 'd4', 'c8', 'd8', 'e8', 'f8', 'g8', 'g8', 'g4',\n",
    "       'g8', 'e8', 'e8', 'e8', 'f8', 'd8', 'd4', 'c8', 'e8', 'g8', 'g8', 'e8', 'e8', 'e4',\n",
    "       'd8', 'd8', 'd8', 'd8', 'd8', 'e8', 'f4', 'e8', 'e8', 'e8', 'e8', 'e8', 'f8', 'g4',\n",
    "       'g8', 'e8', 'e4', 'f8', 'd8', 'd4', 'c8', 'e8', 'g8', 'g8', 'e8', 'e8', 'e4']"
   ]
  },
  {
   "cell_type": "code",
   "execution_count": 6,
   "metadata": {},
   "outputs": [
    {
     "data": {
      "text/plain": [
       "(50, 5)"
      ]
     },
     "execution_count": 6,
     "metadata": {},
     "output_type": "execute_result"
    }
   ],
   "source": [
    "# 데이터셋 생성하기\n",
    "dataset = seq2dataset(seq, window_size = 4)\n",
    "dataset.shape"
   ]
  },
  {
   "cell_type": "code",
   "execution_count": 7,
   "metadata": {},
   "outputs": [],
   "source": [
    "# 입력(X)과 출력(Y) 변수로 분리하기\n",
    "x_train = dataset[:,0:4]\n",
    "y_train = dataset[:,4]\n",
    "\n",
    "MAX_IDX_VALUE = 13"
   ]
  },
  {
   "cell_type": "code",
   "execution_count": 8,
   "metadata": {},
   "outputs": [
    {
     "data": {
      "text/plain": [
       "(50, 4)"
      ]
     },
     "execution_count": 8,
     "metadata": {},
     "output_type": "execute_result"
    }
   ],
   "source": [
    "# 입력값 정규화 시키기\n",
    "x_train = x_train / float(MAX_IDX_VALUE)\n",
    "x_train.shape"
   ]
  },
  {
   "cell_type": "code",
   "execution_count": 9,
   "metadata": {},
   "outputs": [],
   "source": [
    "# 입력을 (샘플 수, 타입스텝, 특성 수)로 형태 변환\n",
    "x_train = np.reshape(x_train, (50, 4, 1))"
   ]
  },
  {
   "cell_type": "code",
   "execution_count": 10,
   "metadata": {},
   "outputs": [
    {
     "data": {
      "text/plain": [
       "12"
      ]
     },
     "execution_count": 10,
     "metadata": {},
     "output_type": "execute_result"
    }
   ],
   "source": [
    "# 라벨값에 대한 one-hot 인코딩 수행\n",
    "y_train = np_utils.to_categorical(y_train)\n",
    "one_hot_vec_size = y_train.shape[1]\n",
    "one_hot_vec_size"
   ]
  },
  {
   "cell_type": "code",
   "execution_count": 24,
   "metadata": {},
   "outputs": [],
   "source": [
    "# 손실 이력 클래스 정의\n",
    "class LossHistory(keras.callbacks.Callback):\n",
    "    def init(self):\n",
    "        self.losses = []\n",
    "        \n",
    "    def on_epoch_end(self, batch, logs={}):\n",
    "        self.losses.append(logs.get('loss'))"
   ]
  },
  {
   "cell_type": "code",
   "execution_count": 11,
   "metadata": {},
   "outputs": [
    {
     "name": "stderr",
     "output_type": "stream",
     "text": [
      "WARNING: Logging before flag parsing goes to stderr.\n",
      "W0813 21:22:58.349040  9872 deprecation_wrapper.py:119] From C:\\ProgramData\\Anaconda3\\lib\\site-packages\\keras\\backend\\tensorflow_backend.py:74: The name tf.get_default_graph is deprecated. Please use tf.compat.v1.get_default_graph instead.\n",
      "\n",
      "W0813 21:22:58.377022  9872 deprecation_wrapper.py:119] From C:\\ProgramData\\Anaconda3\\lib\\site-packages\\keras\\backend\\tensorflow_backend.py:517: The name tf.placeholder is deprecated. Please use tf.compat.v1.placeholder instead.\n",
      "\n",
      "W0813 21:22:58.381020  9872 deprecation_wrapper.py:119] From C:\\ProgramData\\Anaconda3\\lib\\site-packages\\keras\\backend\\tensorflow_backend.py:4138: The name tf.random_uniform is deprecated. Please use tf.random.uniform instead.\n",
      "\n"
     ]
    }
   ],
   "source": [
    "# 모델 구성하기\n",
    "model = Sequential()\n",
    "model.add(LSTM(128, batch_input_shape = (1, 4, 1), stateful=True))\n",
    "model.add(Dense(one_hot_vec_size, activation='softmax'))"
   ]
  },
  {
   "cell_type": "code",
   "execution_count": 12,
   "metadata": {},
   "outputs": [
    {
     "name": "stderr",
     "output_type": "stream",
     "text": [
      "W0813 21:23:12.747829  9872 deprecation_wrapper.py:119] From C:\\ProgramData\\Anaconda3\\lib\\site-packages\\keras\\optimizers.py:790: The name tf.train.Optimizer is deprecated. Please use tf.compat.v1.train.Optimizer instead.\n",
      "\n",
      "W0813 21:23:12.871778  9872 deprecation_wrapper.py:119] From C:\\ProgramData\\Anaconda3\\lib\\site-packages\\keras\\backend\\tensorflow_backend.py:3295: The name tf.log is deprecated. Please use tf.math.log instead.\n",
      "\n"
     ]
    }
   ],
   "source": [
    "# 모델 학습과정 설정하기\n",
    "model.compile(loss='categorical_crossentropy', optimizer='adam', metrics=['accuracy'])"
   ]
  },
  {
   "cell_type": "code",
   "execution_count": 25,
   "metadata": {},
   "outputs": [
    {
     "name": "stdout",
     "output_type": "stream",
     "text": [
      "=======================0=======================\n",
      "Epoch 1/1\n",
      " - 0s - loss: 0.0023 - acc: 1.0000\n",
      "Epoch 1/1\n",
      " - 0s - loss: 0.0028 - acc: 1.0000\n",
      "Epoch 1/1\n",
      " - 0s - loss: 0.0031 - acc: 1.0000\n",
      "Epoch 1/1\n",
      " - 0s - loss: 0.0021 - acc: 1.0000\n",
      "Epoch 1/1\n",
      " - 0s - loss: 0.0024 - acc: 1.0000\n",
      "Epoch 1/1\n",
      " - 0s - loss: 0.0018 - acc: 1.0000\n",
      "Epoch 1/1\n",
      " - 0s - loss: 0.0019 - acc: 1.0000\n",
      "Epoch 1/1\n",
      " - 0s - loss: 0.0018 - acc: 1.0000\n",
      "Epoch 1/1\n",
      " - 0s - loss: 0.0022 - acc: 1.0000\n",
      "Epoch 1/1\n",
      " - 0s - loss: 0.0017 - acc: 1.0000\n",
      "Epoch 1/1\n",
      " - 0s - loss: 0.0036 - acc: 1.0000\n",
      "Epoch 1/1\n",
      " - 0s - loss: 0.0129 - acc: 1.0000\n",
      "Epoch 1/1\n",
      " - 0s - loss: 0.0779 - acc: 0.9800\n",
      "Epoch 1/1\n",
      " - 0s - loss: 0.4101 - acc: 0.8800\n",
      "Epoch 1/1\n",
      " - 0s - loss: 0.9128 - acc: 0.7800\n",
      "Epoch 1/1\n",
      " - 0s - loss: 2.6891 - acc: 0.4200\n",
      "Epoch 1/1\n",
      " - 0s - loss: 0.7331 - acc: 0.7400\n",
      "Epoch 1/1\n",
      " - 0s - loss: 0.5350 - acc: 0.8200\n",
      "Epoch 1/1\n",
      " - 0s - loss: 0.5185 - acc: 0.8600\n",
      "Epoch 1/1\n",
      " - 0s - loss: 0.2663 - acc: 0.9200\n",
      "Epoch 1/1\n",
      " - 0s - loss: 0.2280 - acc: 0.9400\n",
      "Epoch 1/1\n",
      " - 0s - loss: 0.2614 - acc: 0.9000\n",
      "Epoch 1/1\n",
      " - 0s - loss: 0.3097 - acc: 0.8800\n",
      "Epoch 1/1\n",
      " - 0s - loss: 0.3701 - acc: 0.8600\n",
      "Epoch 1/1\n",
      " - 0s - loss: 0.4778 - acc: 0.9000\n",
      "Epoch 1/1\n",
      " - 0s - loss: 0.2485 - acc: 0.9000\n",
      "Epoch 1/1\n",
      " - 0s - loss: 0.3956 - acc: 0.8600\n",
      "Epoch 1/1\n",
      " - 0s - loss: 0.4650 - acc: 0.8800\n",
      "Epoch 1/1\n",
      " - 0s - loss: 0.1934 - acc: 0.9200\n",
      "Epoch 1/1\n",
      " - 0s - loss: 0.1367 - acc: 0.9400\n",
      "Epoch 1/1\n",
      " - 0s - loss: 0.0771 - acc: 1.0000\n",
      "Epoch 1/1\n",
      " - 0s - loss: 0.2803 - acc: 0.9400\n",
      "Epoch 1/1\n",
      " - 0s - loss: 0.1005 - acc: 0.9800\n",
      "Epoch 1/1\n",
      " - 0s - loss: 0.0651 - acc: 1.0000\n",
      "Epoch 1/1\n",
      " - 0s - loss: 0.0522 - acc: 1.0000\n",
      "Epoch 1/1\n",
      " - 0s - loss: 0.0406 - acc: 1.0000\n",
      "Epoch 1/1\n",
      " - 0s - loss: 0.0437 - acc: 1.0000\n",
      "Epoch 1/1\n",
      " - 0s - loss: 0.2043 - acc: 0.9200\n",
      "Epoch 1/1\n",
      " - 0s - loss: 0.3787 - acc: 0.8400\n",
      "Epoch 1/1\n",
      " - 0s - loss: 0.4128 - acc: 0.8400\n",
      "Epoch 1/1\n",
      " - 0s - loss: 0.4699 - acc: 0.8000\n",
      "Epoch 1/1\n",
      " - 0s - loss: 0.1658 - acc: 0.9400\n",
      "Epoch 1/1\n",
      " - 0s - loss: 0.1874 - acc: 0.9400\n",
      "Epoch 1/1\n",
      " - 0s - loss: 0.0655 - acc: 1.0000\n",
      "Epoch 1/1\n",
      " - 0s - loss: 0.1555 - acc: 0.9600\n",
      "Epoch 1/1\n",
      " - 0s - loss: 0.7825 - acc: 0.8800\n",
      "Epoch 1/1\n",
      " - 0s - loss: 0.0543 - acc: 0.9800\n",
      "Epoch 1/1\n",
      " - 0s - loss: 0.0276 - acc: 1.0000\n",
      "Epoch 1/1\n",
      " - 0s - loss: 0.0221 - acc: 1.0000\n",
      "Epoch 1/1\n",
      " - 0s - loss: 0.0133 - acc: 1.0000\n",
      "Epoch 1/1\n",
      " - 0s - loss: 0.0105 - acc: 1.0000\n",
      "Epoch 1/1\n",
      " - 0s - loss: 0.0087 - acc: 1.0000\n",
      "Epoch 1/1\n",
      " - 0s - loss: 0.0078 - acc: 1.0000\n",
      "Epoch 1/1\n",
      " - 0s - loss: 0.0073 - acc: 1.0000\n",
      "Epoch 1/1\n",
      " - 0s - loss: 0.0071 - acc: 1.0000\n",
      "Epoch 1/1\n",
      " - 0s - loss: 0.0062 - acc: 1.0000\n",
      "Epoch 1/1\n",
      " - 0s - loss: 0.0056 - acc: 1.0000\n",
      "Epoch 1/1\n",
      " - 0s - loss: 0.0052 - acc: 1.0000\n",
      "Epoch 1/1\n",
      " - 0s - loss: 0.0049 - acc: 1.0000\n",
      "Epoch 1/1\n",
      " - 0s - loss: 0.0047 - acc: 1.0000\n",
      "Epoch 1/1\n",
      " - 0s - loss: 0.0044 - acc: 1.0000\n",
      "Epoch 1/1\n",
      " - 0s - loss: 0.0042 - acc: 1.0000\n",
      "Epoch 1/1\n",
      " - 0s - loss: 0.0040 - acc: 1.0000\n",
      "Epoch 1/1\n",
      " - 0s - loss: 0.0038 - acc: 1.0000\n",
      "Epoch 1/1\n",
      " - 0s - loss: 0.0035 - acc: 1.0000\n",
      "Epoch 1/1\n",
      " - 0s - loss: 0.0034 - acc: 1.0000\n",
      "Epoch 1/1\n",
      " - 0s - loss: 0.0033 - acc: 1.0000\n",
      "Epoch 1/1\n",
      " - 0s - loss: 0.0031 - acc: 1.0000\n",
      "Epoch 1/1\n",
      " - 0s - loss: 0.0030 - acc: 1.0000\n",
      "Epoch 1/1\n",
      " - 0s - loss: 0.0029 - acc: 1.0000\n",
      "Epoch 1/1\n",
      " - 0s - loss: 0.0028 - acc: 1.0000\n",
      "Epoch 1/1\n",
      " - 0s - loss: 0.0027 - acc: 1.0000\n",
      "Epoch 1/1\n",
      " - 0s - loss: 0.0026 - acc: 1.0000\n",
      "Epoch 1/1\n",
      " - 0s - loss: 0.0026 - acc: 1.0000\n",
      "Epoch 1/1\n",
      " - 0s - loss: 0.0027 - acc: 1.0000\n",
      "Epoch 1/1\n",
      " - 0s - loss: 0.0024 - acc: 1.0000\n",
      "Epoch 1/1\n",
      " - 0s - loss: 0.0024 - acc: 1.0000\n",
      "Epoch 1/1\n",
      " - 0s - loss: 0.0020 - acc: 1.0000\n",
      "Epoch 1/1\n",
      " - 0s - loss: 0.0020 - acc: 1.0000\n",
      "Epoch 1/1\n",
      " - 0s - loss: 0.0018 - acc: 1.0000\n",
      "Epoch 1/1\n",
      " - 0s - loss: 0.0018 - acc: 1.0000\n",
      "Epoch 1/1\n",
      " - 0s - loss: 0.0017 - acc: 1.0000\n",
      "Epoch 1/1\n",
      " - 0s - loss: 0.0017 - acc: 1.0000\n",
      "Epoch 1/1\n",
      " - 0s - loss: 0.0016 - acc: 1.0000\n",
      "Epoch 1/1\n",
      " - 0s - loss: 0.0015 - acc: 1.0000\n",
      "Epoch 1/1\n",
      " - 0s - loss: 0.0015 - acc: 1.0000\n",
      "Epoch 1/1\n",
      " - 0s - loss: 0.0014 - acc: 1.0000\n",
      "Epoch 1/1\n",
      " - 0s - loss: 0.0014 - acc: 1.0000\n",
      "Epoch 1/1\n",
      " - 0s - loss: 0.0013 - acc: 1.0000\n",
      "Epoch 1/1\n",
      " - 0s - loss: 0.0013 - acc: 1.0000\n",
      "Epoch 1/1\n",
      " - 0s - loss: 0.0013 - acc: 1.0000\n",
      "Epoch 1/1\n",
      " - 0s - loss: 0.0012 - acc: 1.0000\n",
      "Epoch 1/1\n",
      " - 0s - loss: 0.0012 - acc: 1.0000\n",
      "Epoch 1/1\n",
      " - 0s - loss: 0.0011 - acc: 1.0000\n",
      "Epoch 1/1\n",
      " - 0s - loss: 0.0011 - acc: 1.0000\n",
      "Epoch 1/1\n",
      " - 0s - loss: 0.0011 - acc: 1.0000\n",
      "Epoch 1/1\n",
      " - 0s - loss: 0.0011 - acc: 1.0000\n",
      "Epoch 1/1\n",
      " - 0s - loss: 0.0011 - acc: 1.0000\n",
      "Epoch 1/1\n",
      " - 0s - loss: 0.0011 - acc: 1.0000\n",
      "Epoch 1/1\n",
      " - 0s - loss: 0.0010 - acc: 1.0000\n",
      "=======================100=======================\n",
      "Epoch 1/1\n",
      " - 0s - loss: 0.0011 - acc: 1.0000\n",
      "Epoch 1/1\n",
      " - 0s - loss: 0.0014 - acc: 1.0000\n",
      "Epoch 1/1\n",
      " - 0s - loss: 0.0014 - acc: 1.0000\n",
      "Epoch 1/1\n",
      " - 0s - loss: 0.0011 - acc: 1.0000\n",
      "Epoch 1/1\n",
      " - 0s - loss: 0.0010 - acc: 1.0000\n",
      "Epoch 1/1\n",
      " - 0s - loss: 9.2585e-04 - acc: 1.0000\n",
      "Epoch 1/1\n",
      " - 0s - loss: 8.2857e-04 - acc: 1.0000\n",
      "Epoch 1/1\n",
      " - 0s - loss: 8.0707e-04 - acc: 1.0000\n",
      "Epoch 1/1\n",
      " - 0s - loss: 7.8106e-04 - acc: 1.0000\n",
      "Epoch 1/1\n",
      " - 0s - loss: 8.1761e-04 - acc: 1.0000\n",
      "Epoch 1/1\n",
      " - 0s - loss: 7.6307e-04 - acc: 1.0000\n",
      "Epoch 1/1\n",
      " - 0s - loss: 7.9655e-04 - acc: 1.0000\n",
      "Epoch 1/1\n",
      " - 0s - loss: 7.1363e-04 - acc: 1.0000\n",
      "Epoch 1/1\n",
      " - 0s - loss: 7.8258e-04 - acc: 1.0000\n",
      "Epoch 1/1\n",
      " - 0s - loss: 6.9577e-04 - acc: 1.0000\n",
      "Epoch 1/1\n",
      " - 0s - loss: 0.0013 - acc: 1.0000\n",
      "Epoch 1/1\n",
      " - 0s - loss: 0.0011 - acc: 1.0000\n",
      "Epoch 1/1\n",
      " - 0s - loss: 0.0043 - acc: 1.0000\n",
      "Epoch 1/1\n",
      " - 0s - loss: 0.0024 - acc: 1.0000\n",
      "Epoch 1/1\n",
      " - 0s - loss: 0.0016 - acc: 1.0000\n",
      "Epoch 1/1\n",
      " - 0s - loss: 8.5003e-04 - acc: 1.0000\n",
      "Epoch 1/1\n",
      " - 0s - loss: 7.4949e-04 - acc: 1.0000\n",
      "Epoch 1/1\n",
      " - 0s - loss: 6.7555e-04 - acc: 1.0000\n",
      "Epoch 1/1\n",
      " - 0s - loss: 6.3120e-04 - acc: 1.0000\n",
      "Epoch 1/1\n",
      " - 0s - loss: 7.0858e-04 - acc: 1.0000\n",
      "Epoch 1/1\n",
      " - 0s - loss: 7.8946e-04 - acc: 1.0000\n",
      "Epoch 1/1\n",
      " - 0s - loss: 0.0011 - acc: 1.0000\n",
      "Epoch 1/1\n",
      " - 0s - loss: 0.0010 - acc: 1.0000\n",
      "Epoch 1/1\n",
      " - 0s - loss: 9.4061e-04 - acc: 1.0000\n",
      "Epoch 1/1\n",
      " - 0s - loss: 4.0403e-04 - acc: 1.0000\n",
      "Epoch 1/1\n",
      " - 0s - loss: 4.2897e-04 - acc: 1.0000\n",
      "Epoch 1/1\n",
      " - 0s - loss: 4.2412e-04 - acc: 1.0000\n",
      "Epoch 1/1\n",
      " - 0s - loss: 3.9103e-04 - acc: 1.0000\n",
      "Epoch 1/1\n",
      " - 0s - loss: 3.6803e-04 - acc: 1.0000\n",
      "Epoch 1/1\n",
      " - 0s - loss: 3.5138e-04 - acc: 1.0000\n",
      "Epoch 1/1\n",
      " - 0s - loss: 3.7460e-04 - acc: 1.0000\n",
      "Epoch 1/1\n",
      " - 0s - loss: 3.1294e-04 - acc: 1.0000\n",
      "Epoch 1/1\n",
      " - 0s - loss: 3.5257e-04 - acc: 1.0000\n",
      "Epoch 1/1\n",
      " - 0s - loss: 3.9383e-04 - acc: 1.0000\n",
      "Epoch 1/1\n",
      " - 0s - loss: 3.3996e-04 - acc: 1.0000\n",
      "Epoch 1/1\n",
      " - 0s - loss: 2.7924e-04 - acc: 1.0000\n",
      "Epoch 1/1\n",
      " - 0s - loss: 2.5824e-04 - acc: 1.0000\n",
      "Epoch 1/1\n",
      " - 0s - loss: 2.3420e-04 - acc: 1.0000\n",
      "Epoch 1/1\n",
      " - 0s - loss: 2.2162e-04 - acc: 1.0000\n",
      "Epoch 1/1\n",
      " - 0s - loss: 2.1913e-04 - acc: 1.0000\n",
      "Epoch 1/1\n",
      " - 0s - loss: 2.6797e-04 - acc: 1.0000\n",
      "Epoch 1/1\n",
      " - 0s - loss: 2.0108e-04 - acc: 1.0000\n",
      "Epoch 1/1\n",
      " - 0s - loss: 1.9785e-04 - acc: 1.0000\n",
      "Epoch 1/1\n",
      " - 0s - loss: 1.9074e-04 - acc: 1.0000\n",
      "Epoch 1/1\n",
      " - 0s - loss: 1.8760e-04 - acc: 1.0000\n",
      "Epoch 1/1\n",
      " - 0s - loss: 1.8559e-04 - acc: 1.0000\n",
      "Epoch 1/1\n",
      " - 0s - loss: 1.9246e-04 - acc: 1.0000\n",
      "Epoch 1/1\n",
      " - 0s - loss: 1.8233e-04 - acc: 1.0000\n",
      "Epoch 1/1\n",
      " - 0s - loss: 2.0920e-04 - acc: 1.0000\n",
      "Epoch 1/1\n",
      " - 0s - loss: 2.0572e-04 - acc: 1.0000\n",
      "Epoch 1/1\n",
      " - 0s - loss: 1.5502e-04 - acc: 1.0000\n",
      "Epoch 1/1\n",
      " - 0s - loss: 2.1360e-04 - acc: 1.0000\n",
      "Epoch 1/1\n",
      " - 0s - loss: 1.8712e-04 - acc: 1.0000\n",
      "Epoch 1/1\n",
      " - 0s - loss: 1.5033e-04 - acc: 1.0000\n",
      "Epoch 1/1\n",
      " - 0s - loss: 1.4796e-04 - acc: 1.0000\n",
      "Epoch 1/1\n",
      " - 0s - loss: 1.4657e-04 - acc: 1.0000\n",
      "Epoch 1/1\n",
      " - 0s - loss: 1.5025e-04 - acc: 1.0000\n",
      "Epoch 1/1\n",
      " - 0s - loss: 1.3431e-04 - acc: 1.0000\n",
      "Epoch 1/1\n",
      " - 0s - loss: 1.3348e-04 - acc: 1.0000\n",
      "Epoch 1/1\n",
      " - 0s - loss: 1.6444e-04 - acc: 1.0000\n",
      "Epoch 1/1\n",
      " - 0s - loss: 1.3579e-04 - acc: 1.0000\n",
      "Epoch 1/1\n",
      " - 0s - loss: 1.7699e-04 - acc: 1.0000\n",
      "Epoch 1/1\n",
      " - 0s - loss: 5.8639e-04 - acc: 1.0000\n",
      "Epoch 1/1\n",
      " - 0s - loss: 0.1221 - acc: 0.9600\n",
      "Epoch 1/1\n",
      " - 0s - loss: 1.5500 - acc: 0.7000\n",
      "Epoch 1/1\n",
      " - 0s - loss: 2.0664 - acc: 0.3600\n",
      "Epoch 1/1\n",
      " - 0s - loss: 1.4593 - acc: 0.5200\n",
      "Epoch 1/1\n",
      " - 0s - loss: 0.8754 - acc: 0.7000\n",
      "Epoch 1/1\n",
      " - 0s - loss: 1.7500 - acc: 0.6000\n",
      "Epoch 1/1\n",
      " - 0s - loss: 0.6099 - acc: 0.7800\n"
     ]
    },
    {
     "name": "stdout",
     "output_type": "stream",
     "text": [
      "Epoch 1/1\n",
      " - 0s - loss: 0.4712 - acc: 0.8200\n",
      "Epoch 1/1\n",
      " - 0s - loss: 0.2181 - acc: 0.9400\n",
      "Epoch 1/1\n",
      " - 0s - loss: 0.2098 - acc: 0.9400\n",
      "Epoch 1/1\n",
      " - 0s - loss: 0.1943 - acc: 0.9800\n",
      "Epoch 1/1\n",
      " - 0s - loss: 0.2322 - acc: 0.8800\n",
      "Epoch 1/1\n",
      " - 0s - loss: 0.8333 - acc: 0.7800\n",
      "Epoch 1/1\n",
      " - 0s - loss: 0.3548 - acc: 0.8200\n",
      "Epoch 1/1\n",
      " - 0s - loss: 0.4731 - acc: 0.8600\n",
      "Epoch 1/1\n",
      " - 0s - loss: 0.1792 - acc: 0.9000\n",
      "Epoch 1/1\n",
      " - 0s - loss: 0.1263 - acc: 0.9800\n",
      "Epoch 1/1\n",
      " - 0s - loss: 0.1407 - acc: 0.9600\n",
      "Epoch 1/1\n",
      " - 0s - loss: 0.1260 - acc: 0.9600\n",
      "Epoch 1/1\n",
      " - 0s - loss: 0.3486 - acc: 0.8200\n",
      "Epoch 1/1\n",
      " - 0s - loss: 0.6378 - acc: 0.8200\n",
      "Epoch 1/1\n",
      " - 0s - loss: 0.4634 - acc: 0.8800\n",
      "Epoch 1/1\n",
      " - 0s - loss: 0.4318 - acc: 0.8600\n",
      "Epoch 1/1\n",
      " - 0s - loss: 0.2718 - acc: 0.8800\n",
      "Epoch 1/1\n",
      " - 0s - loss: 0.2056 - acc: 0.9000\n",
      "Epoch 1/1\n",
      " - 0s - loss: 0.1073 - acc: 0.9800\n",
      "Epoch 1/1\n",
      " - 0s - loss: 0.0786 - acc: 1.0000\n",
      "Epoch 1/1\n",
      " - 0s - loss: 0.0555 - acc: 1.0000\n",
      "Epoch 1/1\n",
      " - 0s - loss: 0.0506 - acc: 1.0000\n",
      "Epoch 1/1\n",
      " - 0s - loss: 0.0625 - acc: 0.9800\n",
      "Epoch 1/1\n",
      " - 0s - loss: 0.2802 - acc: 0.8600\n",
      "Epoch 1/1\n",
      " - 0s - loss: 0.3162 - acc: 0.8600\n",
      "=======================200=======================\n",
      "Epoch 1/1\n",
      " - 0s - loss: 0.1702 - acc: 0.9200\n"
     ]
    }
   ],
   "source": [
    "# 모델 학습시키기\n",
    "num_epochs = 201\n",
    "history = LossHistory()\n",
    "history.init()\n",
    "\n",
    "for epoch_idx in range(num_epochs):\n",
    "    if epoch_idx % 50 == 0:\n",
    "        print(\"======================= \" + str(epoch_idx) + \" =======================\")\n",
    "    model.fit(x_train, y_train, epochs=1, batch_size=1, verbose=2, shuffle=False,\n",
    "              callbacks=[history]) # 50 is X.shape[0]\n",
    "    model.reset_states()\n"
   ]
  },
  {
   "cell_type": "code",
   "execution_count": 26,
   "metadata": {},
   "outputs": [
    {
     "data": {
      "image/png": "[encoded data removed]",
      "text/plain": [
       "<Figure size 432x288 with 1 Axes>"
      ]
     },
     "metadata": {
      "needs_background": "light"
     },
     "output_type": "display_data"
    }
   ],
   "source": [
    "# 학습과정 살펴보기\n",
    "%matplotlib inline\n",
    "import matplotlib.pyplot as plt\n",
    "\n",
    "plt.plot(history.losses)\n",
    "plt.ylabel('loss')\n",
    "plt.xlabel('epoch')\n",
    "plt.legend(['train'], loc='upper left')\n",
    "plt.show()"
   ]
  },
  {
   "cell_type": "code",
   "execution_count": 16,
   "metadata": {},
   "outputs": [
    {
     "name": "stdout",
     "output_type": "stream",
     "text": [
      "50/50 [==============================] - 0s 3ms/step\n",
      "acc: 100.00%\n"
     ]
    }
   ],
   "source": [
    "# 모델 평가하기\n",
    "scores = model.evaluate(x_train, y_train, batch_size=1)\n",
    "print(\"%s: %.2f%%\" %(model.metrics_names[1], scores[1]*100))\n",
    "model.reset_states()"
   ]
  },
  {
   "cell_type": "code",
   "execution_count": 17,
   "metadata": {},
   "outputs": [],
   "source": [
    "# 모델 사용하기\n",
    "pred_count = 50   # 최대 예측 개수 정의"
   ]
  },
  {
   "cell_type": "code",
   "execution_count": 19,
   "metadata": {},
   "outputs": [
    {
     "name": "stdout",
     "output_type": "stream",
     "text": [
      "one step prediction :  ['g8', 'e8', 'e4', 'f8', 'd8', 'd4', 'c8', 'd8', 'e8', 'f8', 'g8', 'g8', 'g4', 'g8', 'e8', 'e8', 'e8', 'f8', 'd8', 'd4', 'c8', 'e8', 'g8', 'g8', 'e8', 'e8', 'e4', 'd8', 'd8', 'd8', 'd8', 'd8', 'e8', 'f4', 'e8', 'e8', 'e8', 'e8', 'e8', 'f8', 'g4', 'g8', 'e8', 'e4', 'f8', 'd8', 'd4', 'c8', 'e8', 'g8', 'g8', 'e8', 'e8', 'e4']\n"
     ]
    }
   ],
   "source": [
    "# 한 스텝 예측\n",
    "seq_out = ['g8', 'e8', 'e4', 'f8']\n",
    "pred_out = model.predict(x_train, batch_size=1)\n",
    "\n",
    "for i in range(pred_count):\n",
    "    idx = np.argmax(pred_out[i]) # one-hot 인코딩을 인덱스 값으로 변환\n",
    "    seq_out.append(idx2code[idx]) # seq_out는 최종 악보이므로 인덱스 값을 코드로 변환하여 저장\n",
    "model.reset_states()\n",
    "\n",
    "print(\"one step prediction : \", seq_out)"
   ]
  },
  {
   "cell_type": "markdown",
   "metadata": {},
   "source": [
    "#### [노래 듣기](http://tykimos.github.io/warehouse/2017-4-9-Stateful_LSTM_f1_one_step_prediction.mp3)"
   ]
  },
  {
   "cell_type": "code",
   "execution_count": 20,
   "metadata": {},
   "outputs": [
    {
     "name": "stdout",
     "output_type": "stream",
     "text": [
      "full song prediction :  ['g8', 'e8', 'e4', 'f8', 'd8', 'd4', 'c8', 'd8', 'e8', 'f8', 'g8', 'g8', 'g4', 'g8', 'e8', 'e8', 'e8', 'f8', 'd8', 'd4', 'c8', 'e8', 'g8', 'g8', 'e8', 'e8', 'e4', 'd8', 'd8', 'd8', 'd8', 'd8', 'e8', 'f4', 'e8', 'e8', 'e8', 'e8', 'e8', 'f8', 'g4', 'g8', 'e8', 'e4', 'f8', 'd8', 'd4', 'c8', 'e8', 'g8', 'g8', 'e8', 'e8', 'e4']\n"
     ]
    }
   ],
   "source": [
    "# 곡 전체 예측\n",
    "seq_in = ['g8', 'e8', 'e4', 'f8']\n",
    "seq_out = seq_in\n",
    "seq_in = [code2idx[it] / float(MAX_IDX_VALUE) for it in seq_in] # 코드를 인덱스값으로 변환\n",
    "\n",
    "for i in range(pred_count):\n",
    "    sample_in = np.array(seq_in)\n",
    "    sample_in = np.reshape(sample_in, (1, 4, 1)) # 샘플 수, 타입스텝 수, 속성 수\n",
    "    pred_out = model.predict(sample_in)\n",
    "    idx = np.argmax(pred_out)\n",
    "    seq_out.append(idx2code[idx])\n",
    "    seq_in.append(idx / float(MAX_IDX_VALUE))\n",
    "    seq_in.pop(0)\n",
    "model.reset_states()\n",
    "    \n",
    "print(\"full song prediction : \", seq_out)"
   ]
  },
  {
   "cell_type": "markdown",
   "metadata": {},
   "source": [
    "#### [노래듣기](http://tykimos.github.io/warehouse/2017-4-9-Stateful_LSTM_f1_full_song_prediction.mp3)"
   ]
  },
  {
   "cell_type": "code",
   "execution_count": null,
   "metadata": {},
   "outputs": [],
   "source": []
  }
 ],
 "metadata": {
  "kernelspec": {
   "display_name": "Python 3",
   "language": "python",
   "name": "python3"
  },
  "language_info": {
   "codemirror_mode": {
    "name": "ipython",
    "version": 3
   },
   "file_extension": ".py",
   "mimetype": "text/x-python",
   "name": "python",
   "nbconvert_exporter": "python",
   "pygments_lexer": "ipython3",
   "version": "3.7.3"
  }
 },
 "nbformat": 4,
 "nbformat_minor": 2
}
