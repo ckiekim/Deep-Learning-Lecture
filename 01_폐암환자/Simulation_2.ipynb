{
 "cells": [
  {
   "cell_type": "markdown",
   "metadata": {},
   "source": [
    "- 17 x 20 x 12 x 1\n",
    "- relu, adam, 30, 10\n",
    "- 0.8511"
   ]
  },
  {
   "cell_type": "code",
   "execution_count": 1,
   "metadata": {},
   "outputs": [
    {
     "name": "stderr",
     "output_type": "stream",
     "text": [
      "Using TensorFlow backend.\n",
      "WARNING: Logging before flag parsing goes to stderr.\n",
      "W0809 10:12:25.469512  6116 deprecation_wrapper.py:119] From C:\\ProgramData\\Anaconda3\\lib\\site-packages\\keras\\backend\\tensorflow_backend.py:74: The name tf.get_default_graph is deprecated. Please use tf.compat.v1.get_default_graph instead.\n",
      "\n",
      "W0809 10:12:25.485112  6116 deprecation_wrapper.py:119] From C:\\ProgramData\\Anaconda3\\lib\\site-packages\\keras\\backend\\tensorflow_backend.py:517: The name tf.placeholder is deprecated. Please use tf.compat.v1.placeholder instead.\n",
      "\n",
      "W0809 10:12:25.485112  6116 deprecation_wrapper.py:119] From C:\\ProgramData\\Anaconda3\\lib\\site-packages\\keras\\backend\\tensorflow_backend.py:4138: The name tf.random_uniform is deprecated. Please use tf.random.uniform instead.\n",
      "\n",
      "W0809 10:12:25.530313  6116 deprecation_wrapper.py:119] From C:\\ProgramData\\Anaconda3\\lib\\site-packages\\keras\\optimizers.py:790: The name tf.train.Optimizer is deprecated. Please use tf.compat.v1.train.Optimizer instead.\n",
      "\n",
      "W0809 10:12:25.691318  6116 deprecation_wrapper.py:119] From C:\\ProgramData\\Anaconda3\\lib\\site-packages\\keras\\backend\\tensorflow_backend.py:986: The name tf.assign_add is deprecated. Please use tf.compat.v1.assign_add instead.\n",
      "\n",
      "W0809 10:12:25.757520  6116 deprecation_wrapper.py:119] From C:\\ProgramData\\Anaconda3\\lib\\site-packages\\keras\\backend\\tensorflow_backend.py:973: The name tf.assign is deprecated. Please use tf.compat.v1.assign instead.\n",
      "\n"
     ]
    },
    {
     "name": "stdout",
     "output_type": "stream",
     "text": [
      "Epoch 1/30\n",
      "470/470 [==============================] - 0s 369us/step - loss: 0.6235 - acc: 0.3170\n",
      "Epoch 2/30\n",
      "470/470 [==============================] - 0s 66us/step - loss: 0.1481 - acc: 0.8489\n",
      "Epoch 3/30\n",
      "470/470 [==============================] - 0s 66us/step - loss: 0.1477 - acc: 0.8511\n",
      "Epoch 4/30\n",
      "470/470 [==============================] - 0s 66us/step - loss: 0.1473 - acc: 0.8511\n",
      "Epoch 5/30\n",
      "470/470 [==============================] - 0s 68us/step - loss: 0.1466 - acc: 0.8511\n",
      "Epoch 6/30\n",
      "470/470 [==============================] - 0s 66us/step - loss: 0.1447 - acc: 0.8511\n",
      "Epoch 7/30\n",
      "470/470 [==============================] - 0s 62us/step - loss: 0.1426 - acc: 0.8468\n",
      "Epoch 8/30\n",
      "470/470 [==============================] - 0s 68us/step - loss: 0.1401 - acc: 0.8511\n",
      "Epoch 9/30\n",
      "470/470 [==============================] - 0s 66us/step - loss: 0.1398 - acc: 0.8511\n",
      "Epoch 10/30\n",
      "470/470 [==============================] - 0s 64us/step - loss: 0.1322 - acc: 0.8511\n",
      "Epoch 11/30\n",
      "470/470 [==============================] - 0s 64us/step - loss: 0.1334 - acc: 0.8511\n",
      "Epoch 12/30\n",
      "470/470 [==============================] - 0s 62us/step - loss: 0.1417 - acc: 0.8511\n",
      "Epoch 13/30\n",
      "470/470 [==============================] - 0s 64us/step - loss: 0.1392 - acc: 0.8511\n",
      "Epoch 14/30\n",
      "470/470 [==============================] - 0s 64us/step - loss: 0.1342 - acc: 0.8511\n",
      "Epoch 15/30\n",
      "470/470 [==============================] - 0s 62us/step - loss: 0.1394 - acc: 0.8511\n",
      "Epoch 16/30\n",
      "470/470 [==============================] - 0s 64us/step - loss: 0.1389 - acc: 0.8511\n",
      "Epoch 17/30\n",
      "470/470 [==============================] - 0s 62us/step - loss: 0.1372 - acc: 0.8511\n",
      "Epoch 18/30\n",
      "470/470 [==============================] - 0s 62us/step - loss: 0.1338 - acc: 0.8511\n",
      "Epoch 19/30\n",
      "470/470 [==============================] - 0s 62us/step - loss: 0.1341 - acc: 0.8511\n",
      "Epoch 20/30\n",
      "470/470 [==============================] - 0s 70us/step - loss: 0.1317 - acc: 0.8511\n",
      "Epoch 21/30\n",
      "470/470 [==============================] - 0s 64us/step - loss: 0.1322 - acc: 0.8511\n",
      "Epoch 22/30\n",
      "470/470 [==============================] - 0s 62us/step - loss: 0.1288 - acc: 0.8511\n",
      "Epoch 23/30\n",
      "470/470 [==============================] - 0s 62us/step - loss: 0.1310 - acc: 0.8489\n",
      "Epoch 24/30\n",
      "470/470 [==============================] - 0s 62us/step - loss: 0.1367 - acc: 0.8511\n",
      "Epoch 25/30\n",
      "470/470 [==============================] - 0s 60us/step - loss: 0.1302 - acc: 0.8511\n",
      "Epoch 26/30\n",
      "470/470 [==============================] - 0s 60us/step - loss: 0.1296 - acc: 0.8511\n",
      "Epoch 27/30\n",
      "470/470 [==============================] - 0s 64us/step - loss: 0.1285 - acc: 0.8511\n",
      "Epoch 28/30\n",
      "470/470 [==============================] - 0s 62us/step - loss: 0.1298 - acc: 0.8511\n",
      "Epoch 29/30\n",
      "470/470 [==============================] - 0s 60us/step - loss: 0.1275 - acc: 0.8511\n",
      "Epoch 30/30\n",
      "470/470 [==============================] - 0s 60us/step - loss: 0.1310 - acc: 0.8511\n",
      "470/470 [==============================] - 0s 51us/step\n",
      "\n",
      " Accuracy: 0.8511\n"
     ]
    }
   ],
   "source": [
    "import numpy as np\n",
    "import tensorflow as tf\n",
    "if type(tf.contrib) != type(tf): \n",
    "    tf.contrib._warning = None\n",
    "# 딥러닝을 구동하는 데 필요한 케라스 패키지 임포트\n",
    "from keras.models import Sequential\n",
    "from keras.layers import Dense\n",
    "# 실행할 때마다 같은 결과를 출력하기 위해 설정\n",
    "seed = 0\n",
    "np.random.seed(seed)\n",
    "tf.set_random_seed(seed)\n",
    "# 준비된 수술 환자 데이터를 불러들임\n",
    "Data_set = np.loadtxt(\"../dataset/ThoraricSurgery.csv\", delimiter=\",\")\n",
    "# 환자의 기록과 수술 결과를 X와 Y로 구분하여 저장\n",
    "X = Data_set[:,0:17]\n",
    "Y = Data_set[:,17]\n",
    "# 딥러닝 구조를 결정(모델을 설정하고 실행하는 부분)\n",
    "model = Sequential()\n",
    "model.add(Dense(20, input_dim=17, activation='relu'))\n",
    "model.add(Dense(12, activation='relu'))\n",
    "model.add(Dense(1, activation='sigmoid'))\n",
    "# 딥러닝 실행\n",
    "model.compile(loss='mean_squared_error', optimizer='adam', metrics=['accuracy'])\n",
    "model.fit(X, Y, epochs=30, batch_size=10)\n",
    "# 결과 출력\n",
    "print(\"\\n Accuracy: %.4f\" % (model.evaluate(X, Y)[1]))"
   ]
  },
  {
   "cell_type": "code",
   "execution_count": null,
   "metadata": {},
   "outputs": [],
   "source": []
  }
 ],
 "metadata": {
  "kernelspec": {
   "display_name": "Python 3",
   "language": "python",
   "name": "python3"
  },
  "language_info": {
   "codemirror_mode": {
    "name": "ipython",
    "version": 3
   },
   "file_extension": ".py",
   "mimetype": "text/x-python",
   "name": "python",
   "nbconvert_exporter": "python",
   "pygments_lexer": "ipython3",
   "version": "3.7.3"
  }
 },
 "nbformat": 4,
 "nbformat_minor": 2
}
