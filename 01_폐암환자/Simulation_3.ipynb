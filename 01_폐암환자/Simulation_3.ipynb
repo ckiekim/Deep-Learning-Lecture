{
 "cells": [
  {
   "cell_type": "code",
   "execution_count": null,
   "metadata": {},
   "outputs": [],
   "source": [
    "- 17 x 20 x 12 x 1\n",
    "- relu/tanh, adam, 30, 10\n",
    "- 0.8511"
   ]
  },
  {
   "cell_type": "code",
   "execution_count": 1,
   "metadata": {},
   "outputs": [
    {
     "name": "stderr",
     "output_type": "stream",
     "text": [
      "Using TensorFlow backend.\n",
      "WARNING: Logging before flag parsing goes to stderr.\n",
      "W0809 10:14:37.757639  2340 deprecation_wrapper.py:119] From C:\\ProgramData\\Anaconda3\\lib\\site-packages\\keras\\backend\\tensorflow_backend.py:74: The name tf.get_default_graph is deprecated. Please use tf.compat.v1.get_default_graph instead.\n",
      "\n",
      "W0809 10:14:37.757639  2340 deprecation_wrapper.py:119] From C:\\ProgramData\\Anaconda3\\lib\\site-packages\\keras\\backend\\tensorflow_backend.py:517: The name tf.placeholder is deprecated. Please use tf.compat.v1.placeholder instead.\n",
      "\n",
      "W0809 10:14:37.757639  2340 deprecation_wrapper.py:119] From C:\\ProgramData\\Anaconda3\\lib\\site-packages\\keras\\backend\\tensorflow_backend.py:4138: The name tf.random_uniform is deprecated. Please use tf.random.uniform instead.\n",
      "\n",
      "W0809 10:14:37.804439  2340 deprecation_wrapper.py:119] From C:\\ProgramData\\Anaconda3\\lib\\site-packages\\keras\\optimizers.py:790: The name tf.train.Optimizer is deprecated. Please use tf.compat.v1.train.Optimizer instead.\n",
      "\n",
      "W0809 10:14:37.957245  2340 deprecation_wrapper.py:119] From C:\\ProgramData\\Anaconda3\\lib\\site-packages\\keras\\backend\\tensorflow_backend.py:986: The name tf.assign_add is deprecated. Please use tf.compat.v1.assign_add instead.\n",
      "\n",
      "W0809 10:14:38.026646  2340 deprecation_wrapper.py:119] From C:\\ProgramData\\Anaconda3\\lib\\site-packages\\keras\\backend\\tensorflow_backend.py:973: The name tf.assign is deprecated. Please use tf.compat.v1.assign instead.\n",
      "\n"
     ]
    },
    {
     "name": "stdout",
     "output_type": "stream",
     "text": [
      "Epoch 1/30\n",
      "470/470 [==============================] - 0s 371us/step - loss: 0.2083 - acc: 0.7319\n",
      "Epoch 2/30\n",
      "470/470 [==============================] - 0s 70us/step - loss: 0.1426 - acc: 0.8511\n",
      "Epoch 3/30\n",
      "470/470 [==============================] - 0s 66us/step - loss: 0.1339 - acc: 0.8511\n",
      "Epoch 4/30\n",
      "470/470 [==============================] - 0s 70us/step - loss: 0.1308 - acc: 0.8511\n",
      "Epoch 5/30\n",
      "470/470 [==============================] - 0s 70us/step - loss: 0.1290 - acc: 0.8511\n",
      "Epoch 6/30\n",
      "470/470 [==============================] - 0s 66us/step - loss: 0.1279 - acc: 0.8511\n",
      "Epoch 7/30\n",
      "470/470 [==============================] - 0s 68us/step - loss: 0.1276 - acc: 0.8511\n",
      "Epoch 8/30\n",
      "470/470 [==============================] - 0s 70us/step - loss: 0.1270 - acc: 0.8511\n",
      "Epoch 9/30\n",
      "470/470 [==============================] - 0s 68us/step - loss: 0.1266 - acc: 0.8511\n",
      "Epoch 10/30\n",
      "470/470 [==============================] - 0s 66us/step - loss: 0.1269 - acc: 0.8511\n",
      "Epoch 11/30\n",
      "470/470 [==============================] - 0s 68us/step - loss: 0.1262 - acc: 0.8511\n",
      "Epoch 12/30\n",
      "470/470 [==============================] - 0s 68us/step - loss: 0.1261 - acc: 0.8511\n",
      "Epoch 13/30\n",
      "470/470 [==============================] - ETA: 0s - loss: 0.1503 - acc: 0.800 - 0s 66us/step - loss: 0.1256 - acc: 0.8511\n",
      "Epoch 14/30\n",
      "470/470 [==============================] - 0s 64us/step - loss: 0.1262 - acc: 0.8511\n",
      "Epoch 15/30\n",
      "470/470 [==============================] - 0s 64us/step - loss: 0.1255 - acc: 0.8511\n",
      "Epoch 16/30\n",
      "470/470 [==============================] - 0s 64us/step - loss: 0.1256 - acc: 0.8511\n",
      "Epoch 17/30\n",
      "470/470 [==============================] - 0s 64us/step - loss: 0.1257 - acc: 0.8511\n",
      "Epoch 18/30\n",
      "470/470 [==============================] - 0s 64us/step - loss: 0.1258 - acc: 0.8511\n",
      "Epoch 19/30\n",
      "470/470 [==============================] - 0s 64us/step - loss: 0.1255 - acc: 0.8511\n",
      "Epoch 20/30\n",
      "470/470 [==============================] - 0s 64us/step - loss: 0.1255 - acc: 0.8511\n",
      "Epoch 21/30\n",
      "470/470 [==============================] - 0s 62us/step - loss: 0.1257 - acc: 0.8511\n",
      "Epoch 22/30\n",
      "470/470 [==============================] - 0s 66us/step - loss: 0.1250 - acc: 0.8511\n",
      "Epoch 23/30\n",
      "470/470 [==============================] - 0s 66us/step - loss: 0.1256 - acc: 0.8511\n",
      "Epoch 24/30\n",
      "470/470 [==============================] - 0s 66us/step - loss: 0.1253 - acc: 0.8511\n",
      "Epoch 25/30\n",
      "470/470 [==============================] - 0s 66us/step - loss: 0.1252 - acc: 0.8511\n",
      "Epoch 26/30\n",
      "470/470 [==============================] - 0s 62us/step - loss: 0.1257 - acc: 0.8511\n",
      "Epoch 27/30\n",
      "470/470 [==============================] - 0s 64us/step - loss: 0.1264 - acc: 0.8511\n",
      "Epoch 28/30\n",
      "470/470 [==============================] - 0s 62us/step - loss: 0.1257 - acc: 0.8511\n",
      "Epoch 29/30\n",
      "470/470 [==============================] - 0s 62us/step - loss: 0.1250 - acc: 0.8511\n",
      "Epoch 30/30\n",
      "470/470 [==============================] - 0s 62us/step - loss: 0.1249 - acc: 0.8511\n",
      "470/470 [==============================] - 0s 51us/step\n",
      "\n",
      " Accuracy: 0.8511\n"
     ]
    }
   ],
   "source": [
    "import numpy as np\n",
    "import tensorflow as tf\n",
    "if type(tf.contrib) != type(tf): \n",
    "    tf.contrib._warning = None\n",
    "# 딥러닝을 구동하는 데 필요한 케라스 패키지 임포트\n",
    "from keras.models import Sequential\n",
    "from keras.layers import Dense\n",
    "# 실행할 때마다 같은 결과를 출력하기 위해 설정\n",
    "seed = 0\n",
    "np.random.seed(seed)\n",
    "tf.set_random_seed(seed)\n",
    "# 준비된 수술 환자 데이터를 불러들임\n",
    "Data_set = np.loadtxt(\"../dataset/ThoraricSurgery.csv\", delimiter=\",\")\n",
    "# 환자의 기록과 수술 결과를 X와 Y로 구분하여 저장\n",
    "X = Data_set[:,0:17]\n",
    "Y = Data_set[:,17]\n",
    "# 딥러닝 구조를 결정(모델을 설정하고 실행하는 부분)\n",
    "model = Sequential()\n",
    "model.add(Dense(20, input_dim=17, activation='relu'))\n",
    "model.add(Dense(12, activation='tanh'))\n",
    "model.add(Dense(1, activation='sigmoid'))\n",
    "# 딥러닝 실행\n",
    "model.compile(loss='mean_squared_error', optimizer='adam', metrics=['accuracy'])\n",
    "model.fit(X, Y, epochs=30, batch_size=10)\n",
    "# 결과 출력\n",
    "print(\"\\n Accuracy: %.4f\" % (model.evaluate(X, Y)[1]))"
   ]
  },
  {
   "cell_type": "code",
   "execution_count": null,
   "metadata": {},
   "outputs": [],
   "source": []
  }
 ],
 "metadata": {
  "kernelspec": {
   "display_name": "Python 3",
   "language": "python",
   "name": "python3"
  },
  "language_info": {
   "codemirror_mode": {
    "name": "ipython",
    "version": 3
   },
   "file_extension": ".py",
   "mimetype": "text/x-python",
   "name": "python",
   "nbconvert_exporter": "python",
   "pygments_lexer": "ipython3",
   "version": "3.7.3"
  }
 },
 "nbformat": 4,
 "nbformat_minor": 2
}
