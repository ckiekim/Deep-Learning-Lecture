{
 "cells": [
  {
   "cell_type": "code",
   "execution_count": null,
   "metadata": {},
   "outputs": [],
   "source": [
    "- 17 x 30 x 1\n",
    "- relu, adam, 30, 20\n",
    "- 0.8511"
   ]
  },
  {
   "cell_type": "code",
   "execution_count": 3,
   "metadata": {},
   "outputs": [
    {
     "name": "stdout",
     "output_type": "stream",
     "text": [
      "Epoch 1/30\n",
      "470/470 [==============================] - 0s 309us/step - loss: 0.8446 - acc: 0.1511\n",
      "Epoch 2/30\n",
      "470/470 [==============================] - 0s 38us/step - loss: 0.8358 - acc: 0.1574\n",
      "Epoch 3/30\n",
      "470/470 [==============================] - 0s 38us/step - loss: 0.8285 - acc: 0.1638\n",
      "Epoch 4/30\n",
      "470/470 [==============================] - 0s 38us/step - loss: 0.8166 - acc: 0.1809\n",
      "Epoch 5/30\n",
      "470/470 [==============================] - 0s 34us/step - loss: 0.8009 - acc: 0.1915\n",
      "Epoch 6/30\n",
      "470/470 [==============================] - 0s 36us/step - loss: 0.7613 - acc: 0.2319\n",
      "Epoch 7/30\n",
      "470/470 [==============================] - 0s 34us/step - loss: 0.4401 - acc: 0.5489\n",
      "Epoch 8/30\n",
      "470/470 [==============================] - 0s 36us/step - loss: 0.1489 - acc: 0.8511\n",
      "Epoch 9/30\n",
      "470/470 [==============================] - 0s 34us/step - loss: 0.1489 - acc: 0.8511\n",
      "Epoch 10/30\n",
      "470/470 [==============================] - 0s 32us/step - loss: 0.1489 - acc: 0.8511\n",
      "Epoch 11/30\n",
      "470/470 [==============================] - 0s 32us/step - loss: 0.1489 - acc: 0.8511\n",
      "Epoch 12/30\n",
      "470/470 [==============================] - 0s 32us/step - loss: 0.1489 - acc: 0.8511\n",
      "Epoch 13/30\n",
      "470/470 [==============================] - 0s 32us/step - loss: 0.1489 - acc: 0.8511\n",
      "Epoch 14/30\n",
      "470/470 [==============================] - 0s 32us/step - loss: 0.1489 - acc: 0.8511\n",
      "Epoch 15/30\n",
      "470/470 [==============================] - ETA: 0s - loss: 0.2000 - acc: 0.800 - 0s 32us/step - loss: 0.1489 - acc: 0.8511\n",
      "Epoch 16/30\n",
      "470/470 [==============================] - 0s 34us/step - loss: 0.1489 - acc: 0.8511\n",
      "Epoch 17/30\n",
      "470/470 [==============================] - 0s 30us/step - loss: 0.1489 - acc: 0.8511\n",
      "Epoch 18/30\n",
      "470/470 [==============================] - 0s 32us/step - loss: 0.1489 - acc: 0.8511\n",
      "Epoch 19/30\n",
      "470/470 [==============================] - 0s 32us/step - loss: 0.1489 - acc: 0.8511\n",
      "Epoch 20/30\n",
      "470/470 [==============================] - 0s 34us/step - loss: 0.1489 - acc: 0.8511\n",
      "Epoch 21/30\n",
      "470/470 [==============================] - 0s 32us/step - loss: 0.1489 - acc: 0.8511\n",
      "Epoch 22/30\n",
      "470/470 [==============================] - 0s 34us/step - loss: 0.1489 - acc: 0.8511\n",
      "Epoch 23/30\n",
      "470/470 [==============================] - 0s 34us/step - loss: 0.1489 - acc: 0.8511\n",
      "Epoch 24/30\n",
      "470/470 [==============================] - 0s 30us/step - loss: 0.1489 - acc: 0.8511\n",
      "Epoch 25/30\n",
      "470/470 [==============================] - 0s 32us/step - loss: 0.1489 - acc: 0.8511\n",
      "Epoch 26/30\n",
      "470/470 [==============================] - 0s 32us/step - loss: 0.1489 - acc: 0.8511\n",
      "Epoch 27/30\n",
      "470/470 [==============================] - 0s 32us/step - loss: 0.1489 - acc: 0.8511\n",
      "Epoch 28/30\n",
      "470/470 [==============================] - 0s 32us/step - loss: 0.1489 - acc: 0.8511\n",
      "Epoch 29/30\n",
      "470/470 [==============================] - 0s 36us/step - loss: 0.1489 - acc: 0.8511\n",
      "Epoch 30/30\n",
      "470/470 [==============================] - 0s 38us/step - loss: 0.1489 - acc: 0.8511\n",
      "470/470 [==============================] - 0s 64us/step\n",
      "\n",
      " Accuracy: 0.8511\n"
     ]
    }
   ],
   "source": [
    "import numpy as np\n",
    "import tensorflow as tf\n",
    "if type(tf.contrib) != type(tf): \n",
    "    tf.contrib._warning = None\n",
    "# 딥러닝을 구동하는 데 필요한 케라스 패키지 임포트\n",
    "from keras.models import Sequential\n",
    "from keras.layers import Dense\n",
    "# 실행할 때마다 같은 결과를 출력하기 위해 설정\n",
    "seed = 0\n",
    "np.random.seed(seed)\n",
    "tf.set_random_seed(seed)\n",
    "# 준비된 수술 환자 데이터를 불러들임\n",
    "Data_set = np.loadtxt(\"../dataset/ThoraricSurgery.csv\", delimiter=\",\")\n",
    "# 환자의 기록과 수술 결과를 X와 Y로 구분하여 저장\n",
    "X = Data_set[:,0:17]\n",
    "Y = Data_set[:,17]\n",
    "# 딥러닝 구조를 결정(모델을 설정하고 실행하는 부분)\n",
    "model = Sequential()\n",
    "model.add(Dense(30, input_dim=17, activation='relu'))\n",
    "model.add(Dense(1, activation='sigmoid'))\n",
    "# 딥러닝 실행\n",
    "model.compile(loss='mean_squared_error', optimizer='adam', metrics=['accuracy'])\n",
    "model.fit(X, Y, epochs=30, batch_size=10)\n",
    "# 결과 출력\n",
    "print(\"\\n Accuracy: %.4f\" % (model.evaluate(X, Y)[1]))"
   ]
  },
  {
   "cell_type": "code",
   "execution_count": null,
   "metadata": {},
   "outputs": [],
   "source": []
  }
 ],
 "metadata": {
  "kernelspec": {
   "display_name": "Python 3",
   "language": "python",
   "name": "python3"
  },
  "language_info": {
   "codemirror_mode": {
    "name": "ipython",
    "version": 3
   },
   "file_extension": ".py",
   "mimetype": "text/x-python",
   "name": "python",
   "nbconvert_exporter": "python",
   "pygments_lexer": "ipython3",
   "version": "3.7.3"
  }
 },
 "nbformat": 4,
 "nbformat_minor": 2
}
